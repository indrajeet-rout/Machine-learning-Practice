{
  "nbformat": 4,
  "nbformat_minor": 0,
  "metadata": {
    "kernelspec": {
      "display_name": "Python 3",
      "language": "python",
      "name": "python3"
    },
    "language_info": {
      "codemirror_mode": {
        "name": "ipython",
        "version": 3
      },
      "file_extension": ".py",
      "mimetype": "text/x-python",
      "name": "python",
      "nbconvert_exporter": "python",
      "pygments_lexer": "ipython3",
      "version": "3.6.3"
    },
    "colab": {
      "provenance": []
    }
  },
  "cells": [
    {
      "cell_type": "code",
      "metadata": {
        "colab": {
          "base_uri": "https://localhost:8080/"
        },
        "id": "RNXdxT-FYDfg",
        "outputId": "e09057ef-7244-4b9a-97e9-653a9ac3f4d4"
      },
      "source": [
        "from numpy import array\n",
        "import numpy as np\n",
        "from numpy import argmax\n",
        "from sklearn.preprocessing import LabelEncoder\n",
        "from sklearn.preprocessing import OneHotEncoder\n",
        "# define example\n",
        "data = ['cold', 'cold', 'warm', 'cold', 'hot', 'hot', 'warm', 'cold', 'warm', 'hot']\n",
        "values=np.array(data)\n",
        "#values = array(data)\n",
        "print(values)\n",
        "# integer encode\n",
        "label_encoder = LabelEncoder()\n",
        "integer_encoded = label_encoder.fit_transform(values)\n",
        "print(integer_encoded)"
      ],
      "execution_count": 1,
      "outputs": [
        {
          "output_type": "stream",
          "name": "stdout",
          "text": [
            "['cold' 'cold' 'warm' 'cold' 'hot' 'hot' 'warm' 'cold' 'warm' 'hot']\n",
            "[0 0 2 0 1 1 2 0 2 1]\n"
          ]
        }
      ]
    },
    {
      "cell_type": "code",
      "metadata": {
        "colab": {
          "base_uri": "https://localhost:8080/"
        },
        "id": "-YVW0LjaYDfq",
        "outputId": "18da883c-4b22-4138-c682-d4cfdb0ed9e8"
      },
      "source": [
        "myinverse_encoding=label_encoder.inverse_transform([0, 0, 2, 0, 1, 1, 2, 0, 2, 1])\n",
        "myinverse_encoding"
      ],
      "execution_count": null,
      "outputs": [
        {
          "output_type": "execute_result",
          "data": {
            "text/plain": [
              "array(['cold', 'cold', 'warm', 'cold', 'hot', 'hot', 'warm', 'cold',\n",
              "       'warm', 'hot'], dtype='<U4')"
            ]
          },
          "metadata": {},
          "execution_count": 2
        }
      ]
    },
    {
      "cell_type": "code",
      "metadata": {
        "colab": {
          "base_uri": "https://localhost:8080/"
        },
        "id": "ibXWxM8PYDfs",
        "outputId": "2fcdfb11-a25f-497f-a969-08eae144d993"
      },
      "source": [
        "\n",
        "# binary encode\n",
        "onehot_encoder = OneHotEncoder(sparse=False)\n",
        "integer_encoded_new = integer_encoded.reshape(len(integer_encoded), 1)\n",
        "onehot_encoded = onehot_encoder.fit_transform(integer_encoded_new)\n",
        "print(onehot_encoded)\n"
      ],
      "execution_count": null,
      "outputs": [
        {
          "output_type": "stream",
          "text": [
            "[[1. 0. 0.]\n",
            " [1. 0. 0.]\n",
            " [0. 0. 1.]\n",
            " [1. 0. 0.]\n",
            " [0. 1. 0.]\n",
            " [0. 1. 0.]\n",
            " [0. 0. 1.]\n",
            " [1. 0. 0.]\n",
            " [0. 0. 1.]\n",
            " [0. 1. 0.]]\n"
          ],
          "name": "stdout"
        }
      ]
    },
    {
      "cell_type": "code",
      "metadata": {
        "colab": {
          "base_uri": "https://localhost:8080/"
        },
        "id": "Xlja5eOeYDfu",
        "outputId": "897c99ce-51fc-40e8-9ed6-f18816699e08"
      },
      "source": [
        "mydata = ['Mumbai', 'Pune', 'Bengaluru', 'Chennai',\"Mumbai\",\"Pune\"]\n",
        "\n",
        "mycity=np.array(mydata)\n",
        "\n",
        "label_encoder = LabelEncoder()\n",
        "integer_encoded_city = label_encoder.fit_transform(mycity)\n",
        "print(integer_encoded_city)\n"
      ],
      "execution_count": null,
      "outputs": [
        {
          "output_type": "stream",
          "text": [
            "[2 3 0 1 2 3]\n"
          ],
          "name": "stdout"
        }
      ]
    },
    {
      "cell_type": "code",
      "metadata": {
        "colab": {
          "base_uri": "https://localhost:8080/"
        },
        "id": "Q78xiWzZYDfx",
        "outputId": "db7fceab-718e-4e26-e004-33e64028f446"
      },
      "source": [
        "inverse_encoding_city=label_encoder.inverse_transform([2, 3, 0, 1, 2, 3])\n",
        "inverse_encoding_city"
      ],
      "execution_count": null,
      "outputs": [
        {
          "output_type": "execute_result",
          "data": {
            "text/plain": [
              "array(['Mumbai', 'Pune', 'Bengaluru', 'Chennai', 'Mumbai', 'Pune'],\n",
              "      dtype='<U9')"
            ]
          },
          "metadata": {},
          "execution_count": 5
        }
      ]
    },
    {
      "cell_type": "code",
      "metadata": {
        "colab": {
          "base_uri": "https://localhost:8080/"
        },
        "id": "Mr-3ZJH2YDfy",
        "outputId": "fd25fd70-956f-40fe-b36b-48053fca04e0"
      },
      "source": [
        "# binary encode\n",
        "onehot_encoder = OneHotEncoder(sparse=False)\n",
        "#integer_encoded = integer_encoded.reshape(len(integer_encoded), 1)\n",
        "integer_encoded_city = integer_encoded_city.reshape(-1, 1)\n",
        "#It expect 2D data\n",
        "print(integer_encoded_city)\n",
        "onehot_encoded_city = onehot_encoder.fit_transform(integer_encoded_city)\n",
        "print(onehot_encoded_city)"
      ],
      "execution_count": null,
      "outputs": [
        {
          "output_type": "stream",
          "text": [
            "[[2]\n",
            " [3]\n",
            " [0]\n",
            " [1]\n",
            " [2]\n",
            " [3]]\n",
            "[[0. 0. 1. 0.]\n",
            " [0. 0. 0. 1.]\n",
            " [1. 0. 0. 0.]\n",
            " [0. 1. 0. 0.]\n",
            " [0. 0. 1. 0.]\n",
            " [0. 0. 0. 1.]]\n"
          ],
          "name": "stdout"
        }
      ]
    },
    {
      "cell_type": "code",
      "metadata": {
        "colab": {
          "base_uri": "https://localhost:8080/"
        },
        "id": "VyytZsDbYDf0",
        "outputId": "6e4a832f-9ba7-42ef-d83f-3a55e7191b7b"
      },
      "source": [
        "from sklearn.preprocessing import LabelEncoder\n",
        "# preprocessing is a module\n",
        "# LabelEncoder is a Class\n",
        "le = LabelEncoder()\n",
        "le.fit([1,2,2,2,5,5,6])\n",
        "le.classes_"
      ],
      "execution_count": null,
      "outputs": [
        {
          "output_type": "execute_result",
          "data": {
            "text/plain": [
              "array([1, 2, 5, 6])"
            ]
          },
          "metadata": {},
          "execution_count": 7
        }
      ]
    },
    {
      "cell_type": "code",
      "metadata": {
        "id": "iBvV2tfLYDf4",
        "outputId": "e0f5cc37-5a3d-466a-c326-9de918b1f274"
      },
      "source": [
        "from numpy import array\n",
        "import numpy as np\n",
        "from numpy import argmax\n",
        "from sklearn.preprocessing import LabelEncoder\n",
        "from sklearn.preprocessing import OneHotEncoder\n",
        "# define example\n",
        "data = ['cold', 'cold', 'warm', 'cold', 'hot', 'hot', 'warm', 'cold', 'warm', 'hot']\n",
        "values=np.array(data)\n",
        "#values = array(data)\n",
        "print(values)"
      ],
      "execution_count": null,
      "outputs": [
        {
          "name": "stdout",
          "output_type": "stream",
          "text": [
            "['cold' 'cold' 'warm' 'cold' 'hot' 'hot' 'warm' 'cold' 'warm' 'hot']\n"
          ]
        }
      ]
    },
    {
      "cell_type": "code",
      "metadata": {
        "id": "XR1f7g2vYDf7",
        "outputId": "8f56ae64-b90c-4ae4-c589-16d7b31c2b5f"
      },
      "source": [
        "# integer encode\n",
        "label_encoder = LabelEncoder()\n",
        "integer_encoded = label_encoder.fit_transform(values)\n",
        "print(integer_encoded)"
      ],
      "execution_count": null,
      "outputs": [
        {
          "name": "stdout",
          "output_type": "stream",
          "text": [
            "[0 0 2 0 1 1 2 0 2 1]\n"
          ]
        }
      ]
    },
    {
      "cell_type": "code",
      "metadata": {
        "id": "GulPMt1-YDf-",
        "outputId": "614bed39-9bdd-4ff0-da7d-9ff82b46ef44"
      },
      "source": [
        "# binary encode\n",
        "onehot_encoder = OneHotEncoder(sparse=False)\n",
        "#integer_encoded = integer_encoded.reshape(len(integer_encoded), 1)\n",
        "integer_encoded = integer_encoded.reshape(-1, 1)\n",
        "#It expect 2D data\n",
        "print(integer_encoded)\n",
        "onehot_encoded = onehot_encoder.fit_transform(integer_encoded)\n",
        "print(onehot_encoded)"
      ],
      "execution_count": null,
      "outputs": [
        {
          "name": "stdout",
          "output_type": "stream",
          "text": [
            "[[0]\n",
            " [0]\n",
            " [2]\n",
            " [0]\n",
            " [1]\n",
            " [1]\n",
            " [2]\n",
            " [0]\n",
            " [2]\n",
            " [1]]\n",
            "[[1. 0. 0.]\n",
            " [1. 0. 0.]\n",
            " [0. 0. 1.]\n",
            " [1. 0. 0.]\n",
            " [0. 1. 0.]\n",
            " [0. 1. 0.]\n",
            " [0. 0. 1.]\n",
            " [1. 0. 0.]\n",
            " [0. 0. 1.]\n",
            " [0. 1. 0.]]\n"
          ]
        }
      ]
    },
    {
      "cell_type": "markdown",
      "metadata": {
        "id": "rECgFX3aYDgB"
      },
      "source": [
        "# https://machinelearningmastery.com/how-to-one-hot-encode-sequence-data-in-python/"
      ]
    },
    {
      "cell_type": "code",
      "metadata": {
        "id": "JBw4sPEWYDgD",
        "outputId": "41d698d7-7df2-40ae-f1dd-80646eab0767"
      },
      "source": [
        "from numpy import array\n",
        "from numpy import argmax\n",
        "from keras.utils import to_categorical\n",
        "# define example\n",
        "data = [1, 3, 2, 0, 3, 2, 2, 1, 0, 1]\n",
        "data = array(data)\n",
        "print(data)\n",
        "# one hot encode\n",
        "encoded = to_categorical(data)\n",
        "print(encoded)\n",
        "# invert encoding\n",
        "inverted = argmax(encoded[5])\n",
        "print(inverted)"
      ],
      "execution_count": null,
      "outputs": [
        {
          "name": "stdout",
          "output_type": "stream",
          "text": [
            "[1 3 2 0 3 2 2 1 0 1]\n",
            "[[0. 1. 0. 0.]\n",
            " [0. 0. 0. 1.]\n",
            " [0. 0. 1. 0.]\n",
            " [1. 0. 0. 0.]\n",
            " [0. 0. 0. 1.]\n",
            " [0. 0. 1. 0.]\n",
            " [0. 0. 1. 0.]\n",
            " [0. 1. 0. 0.]\n",
            " [1. 0. 0. 0.]\n",
            " [0. 1. 0. 0.]]\n",
            "2\n"
          ]
        }
      ]
    }
  ]
}